{
 "cells": [
  {
   "cell_type": "markdown",
   "metadata": {},
   "source": [
    "### Minimization of the 2D Ackley function with EvoMiP"
   ]
  },
  {
   "cell_type": "code",
   "execution_count": null,
   "metadata": {},
   "outputs": [],
   "source": [
    "import sys\n",
    "!{sys.executable} -m pip install git+https://github.com/dr4kan/EvoMiP.git#egg=evomip"
   ]
  },
  {
   "cell_type": "code",
   "execution_count": 32,
   "metadata": {},
   "outputs": [],
   "source": [
    "from evomip.Config import Config\n",
    "from evomip.Parameter import *\n",
    "from evomip.SearchSpace import SearchSpace\n",
    "from evomip.Population import Population\n",
    "from evomip.Functions import sphere\n",
    "from evomip.BAT import BAT\n",
    "import numpy as np"
   ]
  },
  {
   "cell_type": "markdown",
   "metadata": {},
   "source": [
    "Definition of the 2D Ackley objective function (OB)"
   ]
  },
  {
   "cell_type": "code",
   "execution_count": 33,
   "metadata": {},
   "outputs": [],
   "source": [
    "# OB is a function of np.array \n",
    "def obfuc(x: np.array):\n",
    "    x0 = x[0]\n",
    "    x1 = x[1]\n",
    "    return -20 * np.exp(-0.2 * np.sqrt(0.5*(x0**2 + x1**2))) - np.exp(0.5 * (np.cos(2 * np.pi * x0) + np.cos(2 * np.pi * x1))) + np.exp(1) + 20"
   ]
  },
  {
   "cell_type": "markdown",
   "metadata": {},
   "source": [
    "The function depends on two variables. We need an istance of ```Parameter``` for each variable"
   ]
  },
  {
   "cell_type": "code",
   "execution_count": 34,
   "metadata": {},
   "outputs": [
    {
     "name": "stdout",
     "output_type": "stream",
     "text": [
      "[Parameter(name='x0', min_val=-4.0, max_val=4.0, integer=False), Parameter(name='x1', min_val=-4.0, max_val=4.0, integer=False)]\n",
      "[Parameter(name='x0', min_val=-4.0, max_val=4.0, integer=False), Parameter(name='x1', min_val=-4.0, max_val=4.0, integer=False)]\n"
     ]
    }
   ],
   "source": [
    "p1 = Parameter(\"x0\", -4., 4.)\n",
    "p2 = Parameter(\"x1\", -4., 4.)\n",
    "p = [p1, p2] # list of parameters\n",
    "\n",
    "# quick way if you have many parameters\n",
    "p_alt = createListParameters(\"x\", 2, -4., 4.)\n",
    "\n",
    "# p and p_alt are the same\n",
    "print(p)\n",
    "print(p_alt)"
   ]
  },
  {
   "cell_type": "markdown",
   "metadata": {},
   "source": [
    "Definition of the seach space and the general configuration parameters"
   ]
  },
  {
   "cell_type": "code",
   "execution_count": 35,
   "metadata": {},
   "outputs": [],
   "source": [
    "sspace = SearchSpace(p)\n",
    "\n",
    "# class Config defines the parameters which are common to all algorithms\n",
    "config = Config(nmax_iter=100)"
   ]
  },
  {
   "cell_type": "markdown",
   "metadata": {},
   "source": [
    "Definition of the population and choose of the algorithm"
   ]
  },
  {
   "cell_type": "code",
   "execution_count": 36,
   "metadata": {},
   "outputs": [],
   "source": [
    "# defition of the population\n",
    "population = Population(200, obfuc, sspace, config)\n",
    "\n",
    "# running the algorithm\n",
    "algo = BAT(population)\n",
    "\n",
    "# we can tune the algorithm, if necessary, as it has some free parameters\n",
    "# def __init__(self, population: Population, initialLoudness: float = 1.5, \n",
    "#              alpha: float = 0.95, initialPulseRate: float = 0.5, gamma: float = 0.9,\n",
    "#              fmin: float = 0., fmax: float = 2.) -> None:"
   ]
  },
  {
   "cell_type": "markdown",
   "metadata": {},
   "source": [
    "Running and getting the results"
   ]
  },
  {
   "cell_type": "code",
   "execution_count": 37,
   "metadata": {},
   "outputs": [
    {
     "name": "stdout",
     "output_type": "stream",
     "text": [
      "Generating the initial population...\n",
      "\n"
     ]
    },
    {
     "name": "stderr",
     "output_type": "stream",
     "text": [
      "100%|██████████| 100/100 [00:00<00:00, 472.63it/s]"
     ]
    },
    {
     "name": "stdout",
     "output_type": "stream",
     "text": [
      "\n",
      "       EmiP Minimization Results\n",
      "--------------------------------------------\n",
      "         minimizer | BAT\n",
      "        iterations | 100\n",
      "   population size | 200\n",
      "        OOB method | OOBMethod.RBC\n",
      " constraint method | ConstraintsMethod.BAR\n",
      "         best cost | 0.0004780568090936299\n",
      "     best solution | x0 = -7.383925559797911e-05\n",
      "                   | x1 = -0.00015173825824659637\n",
      "--------------------------------------------\n"
     ]
    },
    {
     "name": "stderr",
     "output_type": "stream",
     "text": [
      "\n"
     ]
    }
   ],
   "source": [
    "algo.minimize()\n",
    "\n",
    "# summary of the results\n",
    "algo.summary()"
   ]
  }
 ],
 "metadata": {
  "kernelspec": {
   "display_name": "Python 3",
   "language": "python",
   "name": "python3"
  },
  "language_info": {
   "codemirror_mode": {
    "name": "ipython",
    "version": 3
   },
   "file_extension": ".py",
   "mimetype": "text/x-python",
   "name": "python",
   "nbconvert_exporter": "python",
   "pygments_lexer": "ipython3",
   "version": "3.12.3"
  }
 },
 "nbformat": 4,
 "nbformat_minor": 2
}
