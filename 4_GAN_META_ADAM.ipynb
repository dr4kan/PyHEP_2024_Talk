{
 "cells": [
  {
   "cell_type": "markdown",
   "metadata": {},
   "source": [
    "### ANN weights optimization with metaheuristic algorithms\n",
    "\n",
    "Here we want to train an ANN to generate 3 integer numbers $(a,b,c)$, such as:\n",
    "\n",
    "- $a \\geq 0$\n",
    "- $b \\leq 0$\n",
    "- $c = 0$"
   ]
  },
  {
   "cell_type": "code",
   "execution_count": 88,
   "metadata": {},
   "outputs": [],
   "source": [
    "import numpy as np\n",
    "import tensorflow as tf\n",
    "import time\n",
    "import random\n",
    "import matplotlib.pyplot as plt\n",
    "import cProfile as profile\n",
    "\n",
    "from evomip.Constraint import Constraint\n",
    "from evomip.Parameter import *\n",
    "from evomip.SearchSpace import SearchSpace\n",
    "from evomip.Population import Population\n",
    "from evomip.Config import Config\n",
    "from evomip.WOA import WOA"
   ]
  },
  {
   "cell_type": "code",
   "execution_count": 89,
   "metadata": {},
   "outputs": [],
   "source": [
    "class NetStructure:\n",
    "    def __init__(self, input_dim, output_dim):\n",
    "        self.input_dim  = input_dim\n",
    "        self.n_hidden   = 0\n",
    "        self.hidden_dim = []\n",
    "        self.output_dim = output_dim\n",
    "        self.activation = []\n",
    "\n",
    "    def add_hidden(self, hidden_dim, activation = 'linear'):\n",
    "        self.n_hidden += 1\n",
    "        self.hidden_dim.append(hidden_dim)\n",
    "        self.activation.append(activation)\n",
    "\n",
    "    def get_input_dim(self):\n",
    "        return self.input_dim\n",
    "\n",
    "    def get_output_dim(self):\n",
    "        return self.output_dim\n",
    "\n",
    "    def get_num_hidden(self):\n",
    "        return self.n_hidden\n",
    "\n",
    "    def get_hidden_dim(self, index):\n",
    "        return self.hidden_dim[index]\n",
    "\n",
    "    def get_activation(self, index):\n",
    "        return self.activation[index]\n",
    "\n",
    "    def print(self):\n",
    "        print(\"----------------------\")\n",
    "        print(\"    Input dim:\", self.input_dim)\n",
    "        for i in range(self.n_hidden):\n",
    "            print(\" Hidden\", i+1, \"dim:\", self.hidden_dim[i], \"- activation:\", self.activation[i])\n",
    "        print(\"   Output dim:\", self.output_dim)\n",
    "        print(\"----------------------\")"
   ]
  },
  {
   "cell_type": "code",
   "execution_count": 90,
   "metadata": {},
   "outputs": [],
   "source": [
    "class Model:\n",
    "    def __init__(self, net_structure):\n",
    "        self.net_structure  = net_structure\n",
    "        \n",
    "        # range on latent points\n",
    "        self.latent_points_range = [-200., 200.]\n",
    "\n",
    "        # definisco il modello sulla base della struttura che gli ho passato\n",
    "        self.model = tf.keras.Sequential()\n",
    "        self.model.add(tf.keras.layers.Dense(net_structure.get_hidden_dim(0), activation=net_structure.get_activation(0), input_dim=net_structure.get_input_dim()))\n",
    "        for i in range(1, net_structure.get_num_hidden()):\n",
    "            self.model.add(tf.keras.layers.Dense(net_structure.get_hidden_dim(i), activation=net_structure.get_activation(i)))\n",
    "        self.model.add(tf.keras.layers.Dense(net_structure.get_output_dim()))\n",
    "        \n",
    "        # random generatin of biases\n",
    "        nl = len(self.model.layers)\n",
    "        self.bias = []\n",
    "        for p in range(0, nl):\n",
    "            nw = self.model.layers[p].input.shape[1] * self.model.layers[p].output.shape[1]\n",
    "            self.bias.append(np.random.uniform(0, 100, self.model.layers[p].count_params() - nw))\n",
    "            \n",
    "    def set_latent_points_range(self, minv, maxv):\n",
    "        self.latent_points_range = [minv, maxv]\n",
    "\n",
    "    def set_num_iterations(self, num_iterations):\n",
    "        self.num_iterations = num_iterations\n",
    "\n",
    "    def set_population_size(self, population_size):\n",
    "        self.population_size = population_size\n",
    "        \n",
    "    def generate_latent_points(self, sample_size) -> np.array:\n",
    "        self.latent_points = np.random.uniform(self.latent_points_range[0], self.latent_points_range[1], (sample_size, self.net_structure.get_input_dim()))\n",
    "\n",
    "    def update_model_with_parameters(self, opt_par):\n",
    "        nl = len(self.model.layers)\n",
    "        wbindex = 0\n",
    "        for p in range(0, nl):\n",
    "            W = opt_par[wbindex:(wbindex + self.model.layers[p].input.shape[1] * self.model.layers[p].output.shape[1])]\n",
    "            self.model.layers[p].set_weights([W.reshape(self.model.layers[p].input.shape[1], self.model.layers[p].output.shape[1]), self.bias[p]])\n",
    "            wbindex += len(W)\n",
    "\n",
    "    def optimize(self):\n",
    "        # configuration   \n",
    "        config = Config(nmax_iter=self.num_iterations, seed=11, nmax_iter_same_cost=0, silent=False)\n",
    "\n",
    "        # parameters and search space\n",
    "        pars = []\n",
    "        for p in range(0, len(model.model.layers)):\n",
    "            nw = self.model.layers[p].input.shape[1] * self.model.layers[p].output.shape[1]\n",
    "            pars = pars + createListParameters(\"w\" + str(p), nw, -1., 1.)\n",
    "        \n",
    "        self.sspace = SearchSpace(pars)\n",
    "        \n",
    "        # population\n",
    "        population = Population(self.population_size, self.objective_function, self.sspace, config)\n",
    "        self.algo = WOA(population)\n",
    "        self.algo.minimize()\n",
    "\n",
    "    def objective_function(self, opt_par):\n",
    "        self.update_model_with_parameters(opt_par)\n",
    "        sum = 0.\n",
    "        y_pred = self.model.predict(self.latent_points, verbose = 0)\n",
    "        for i in range(0, len(y_pred)):\n",
    "            a = int(y_pred[i,0])\n",
    "            b = int(y_pred[i,1])\n",
    "            c = int(y_pred[i,2])\n",
    "            if (a < 0):\n",
    "                sum += abs(a)\n",
    "            if (b > 0):\n",
    "                sum += b\n",
    "            sum += abs(c)\n",
    "        return sum\n",
    "\n",
    "    def generate(self):\n",
    "        # randomly generate the latent points\n",
    "        self.generate_latent_points(1)\n",
    "        y_pred = self.model.predict(self.latent_points, verbose = 0)\n",
    "        return [int(y_pred[0][0]), int(y_pred[0][1]), int(y_pred[0][2])]"
   ]
  },
  {
   "cell_type": "code",
   "execution_count": 91,
   "metadata": {},
   "outputs": [
    {
     "name": "stdout",
     "output_type": "stream",
     "text": [
      "Generating the initial population...\n",
      "\n"
     ]
    },
    {
     "name": "stderr",
     "output_type": "stream",
     "text": [
      "100%|██████████| 200/200 [08:12<00:00,  2.46s/it]\n"
     ]
    }
   ],
   "source": [
    "net = NetStructure(input_dim=1, output_dim=3)\n",
    "net.add_hidden(hidden_dim=10)\n",
    "\n",
    "model = Model(net)\n",
    "model.generate_latent_points(1000)\n",
    "model.set_num_iterations(200)\n",
    "model.set_population_size(100)\n",
    "model.optimize()  "
   ]
  },
  {
   "cell_type": "code",
   "execution_count": 102,
   "metadata": {},
   "outputs": [
    {
     "data": {
      "image/png": "[encoded data removed]",
      "text/plain": [
       "<Figure size 640x480 with 1 Axes>"
      ]
     },
     "metadata": {},
     "output_type": "display_data"
    },
    {
     "name": "stdout",
     "output_type": "stream",
     "text": [
      "Best cost: 0.0\n"
     ]
    }
   ],
   "source": [
    "ys = model.algo.costHistory\n",
    "xs = [x for x in range(len(ys))]\n",
    "plt.plot(xs, ys)\n",
    "plt.xlabel(\"Iteration\")\n",
    "plt.ylabel(\"Cost\")\n",
    "plt.show()\n",
    "\n",
    "print(\"Best cost:\", ys[len(ys)-1])"
   ]
  },
  {
   "cell_type": "markdown",
   "metadata": {},
   "source": [
    "Let's check by hand some new data..."
   ]
  },
  {
   "cell_type": "code",
   "execution_count": 100,
   "metadata": {},
   "outputs": [
    {
     "name": "stdout",
     "output_type": "stream",
     "text": [
      "[53, -70, 0] True\n",
      "[85, -43, 0] True\n",
      "[33, -87, 0] True\n",
      "[85, -43, 0] True\n",
      "[55, -69, 0] True\n",
      "[79, -48, 0] True\n",
      "[61, -63, 0] True\n",
      "[30, -90, 0] True\n",
      "[111, -21, 0] True\n",
      "[52, -72, 0] True\n"
     ]
    }
   ],
   "source": [
    "def is_good_generation(gen) -> bool:\n",
    "    a = gen[0]\n",
    "    b = gen[1]\n",
    "    c = gen[2]\n",
    "    if (a < 0 or b > 0 or c != 0):\n",
    "        return False\n",
    "    return True\n",
    "     \n",
    "\n",
    "for i in range(10):               \n",
    "    x = model.generate()                \n",
    "    print(x, is_good_generation(x))"
   ]
  },
  {
   "cell_type": "markdown",
   "metadata": {},
   "source": [
    "They are all fine. Now let's generate a larger test sample and compute the accuracy."
   ]
  },
  {
   "cell_type": "code",
   "execution_count": 99,
   "metadata": {},
   "outputs": [
    {
     "name": "stdout",
     "output_type": "stream",
     "text": [
      "Accuracy: 100.0% (1000/1000)\n"
     ]
    }
   ],
   "source": [
    "test_size = 1000\n",
    "xs = [model.generate() for i in range(test_size)]\n",
    "right_x = 0\n",
    "for x in xs:\n",
    "    if (is_good_generation(x)):\n",
    "        right_x += 1\n",
    "        \n",
    "print(\"Accuracy: \", 100.*right_x/test_size, \"% (\", right_x, \"/\", test_size, \")\", sep=\"\")"
   ]
  }
 ],
 "metadata": {
  "kernelspec": {
   "display_name": "Python 3",
   "language": "python",
   "name": "python3"
  },
  "language_info": {
   "codemirror_mode": {
    "name": "ipython",
    "version": 3
   },
   "file_extension": ".py",
   "mimetype": "text/x-python",
   "name": "python",
   "nbconvert_exporter": "python",
   "pygments_lexer": "ipython3",
   "version": "3.12.3"
  }
 },
 "nbformat": 4,
 "nbformat_minor": 2
}
