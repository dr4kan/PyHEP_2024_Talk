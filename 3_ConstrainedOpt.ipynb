{
 "cells": [
  {
   "cell_type": "markdown",
   "metadata": {},
   "source": [
    "### Nonlinear programming with mixed-integer variables"
   ]
  },
  {
   "cell_type": "code",
   "execution_count": null,
   "metadata": {},
   "outputs": [],
   "source": [
    "import numpy as np\n",
    "from evomip.Constraint import Constraint\n",
    "from evomip.Parameter import Parameter\n",
    "from evomip.SearchSpace import SearchSpace\n",
    "from evomip.Population import Population\n",
    "from evomip.Config import Config\n",
    "from evomip.WOA import WOA"
   ]
  },
  {
   "cell_type": "markdown",
   "metadata": {},
   "source": [
    "This is a well know benchmark problem:\n",
    "\n",
    "$\\min f(x_1,x_2,x_3,x_4) = 0.6224 x_1x_3x_4 + 1.7781x_2x_3^2 + 3.1661x_1^2x_4 + 19.84x_1^2x_3$\n",
    "\n",
    "subject to: $g_1(x_1,x_3) = -x_1 + 0.0193x_3 \\leq 0$ \\\n",
    "$\\ \\ \\ \\ \\ \\ \\ \\ \\ \\ \\ \\ \\ \\ \\ \\ g_2(x_2,x_3) = -x_2 + 0.00954x_3 \\leq 0$ \\\n",
    "$\\ \\ \\ \\ \\ \\ \\ \\ \\ \\ \\ \\ \\ \\ \\ \\ g_3(x_3,x_4) = -\\pi x_3^2x_4 -\\frac{4}{3}\\pi x_3^3 + 1296000 \\leq 0$\n",
    "\n",
    "where: $x_1 = 0.0625 \\cdot x_1^{*}$ with $x_1^{*}$ integer \\\n",
    "$\\ \\ \\ \\ \\ \\ \\ \\ \\ \\ \\ x_2 = 0.0625 \\cdot x_2^{*}$ with $x_2^{*}$ integer\n",
    "\n",
    "The search space is: $x_1^{*} \\in [18, 32]$, $x_2^{*} \\in [10, 32]$, $x_3 \\in [10, 240]$ and $x_4 \\in [10, 240]$\n",
    "\n",
    "Best solution from <em>Lee and Geem, Comput. Methods Appl. Mech. Eng. 2005, 194(36–38)</em>: <b>7197.730</b>"
   ]
  },
  {
   "cell_type": "markdown",
   "metadata": {},
   "source": [
    "Defintion of all functions involved"
   ]
  },
  {
   "cell_type": "code",
   "execution_count": 1,
   "metadata": {},
   "outputs": [],
   "source": [
    "def ob(x: np.array):\n",
    "    return 0.6224 * (x[0]*0.0625) * x[2] * x[3] + 1.7781 * (x[1]*0.0625) * x[2]**2 + 3.1611 * (x[0]*0.0625)**2 * x[3] + 19.8621 * (x[0]*0.0625)**2 * x[2]\n",
    "\n",
    "def g1(x: np.array):\n",
    "    return 0.0193*x[2] - (x[0]*0.0625) \n",
    "\n",
    "def g2(x: np.array):\n",
    "    return 0.00954*x[2] - (x[1]*0.0625) \n",
    "\n",
    "def g3(x: np.array):\n",
    "    return 1296000 - np.pi * x[2]**2 * x[3] - 4/3 * np.pi * x[2]**3"
   ]
  },
  {
   "cell_type": "code",
   "execution_count": 2,
   "metadata": {},
   "outputs": [
    {
     "name": "stdout",
     "output_type": "stream",
     "text": [
      "Generating the initial population...\n",
      "\n"
     ]
    },
    {
     "name": "stderr",
     "output_type": "stream",
     "text": [
      "100%|██████████| 3000/3000 [00:11<00:00, 251.76it/s]"
     ]
    },
    {
     "name": "stdout",
     "output_type": "stream",
     "text": [
      "\n",
      "       EmiP Minimization Results\n",
      "--------------------------------------------\n",
      "         minimizer | WOA\n",
      "        iterations | 3000\n",
      "   population size | 500\n",
      "        OOB method | OOBMethod.RBC\n",
      " constraint method | ConstraintsMethod.BAR\n",
      "         best cost | 7201.959210720072\n",
      "     best solution | x1* = 18  (int)\n",
      "                   | x2* = 10  (int)\n",
      "                   | x3 = 58.24770553781091\n",
      "                   | x4 = 43.926287710201215\n",
      "--------------------------------------------\n"
     ]
    },
    {
     "name": "stderr",
     "output_type": "stream",
     "text": [
      "\n"
     ]
    }
   ],
   "source": [
    "c1 = Constraint(g1, \"<=\")\n",
    "c2 = Constraint(g2, \"<=\")\n",
    "c3 = Constraint(g3, \"<=\")\n",
    "\n",
    "p1 = Parameter(\"x1*\", 18, 32, True)\n",
    "p2 = Parameter(\"x2*\", 10, 32, True) \n",
    "p3 = Parameter(\"x3\", 10, 240) \n",
    "p4 = Parameter(\"x4\", 10, 240)\n",
    "\n",
    "config = Config(nmax_iter=3000, nmax_iter_same_cost=0, seed=110, oobMethod=\"RBC\", \n",
    "                constraintsMethod=\"BAR\", min_valid_solutions = 50)\n",
    "sspace = SearchSpace([p1,p2,p3,p4], [c1,c2,c3])\n",
    "population = Population(500, ob, sspace, config)\n",
    "\n",
    "algo = WOA(ob, population)\n",
    "algo.minimize()\n",
    "algo.summary()"
   ]
  },
  {
   "cell_type": "markdown",
   "metadata": {},
   "source": [
    "Let's make sure the best solution does not violate any constraint"
   ]
  },
  {
   "cell_type": "code",
   "execution_count": 3,
   "metadata": {},
   "outputs": [
    {
     "name": "stdout",
     "output_type": "stream",
     "text": [
      "-0.00081928312024937\n",
      "-0.06931688916928391\n",
      "-2.2491440176963806e-07\n",
      "cost: 7201.959210720072\n"
     ]
    }
   ],
   "source": [
    "x = algo.result.bestSolution\n",
    "print(g1(x))\n",
    "print(g2(x))\n",
    "print(g3(x))\n",
    "\n",
    "print(\"cost:\", ob(x))\n",
    "\n"
   ]
  }
 ],
 "metadata": {
  "kernelspec": {
   "display_name": "Python 3",
   "language": "python",
   "name": "python3"
  },
  "language_info": {
   "codemirror_mode": {
    "name": "ipython",
    "version": 3
   },
   "file_extension": ".py",
   "mimetype": "text/x-python",
   "name": "python",
   "nbconvert_exporter": "python",
   "pygments_lexer": "ipython3",
   "version": "3.12.3"
  }
 },
 "nbformat": 4,
 "nbformat_minor": 2
}
